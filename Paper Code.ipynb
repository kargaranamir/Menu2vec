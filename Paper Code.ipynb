{
 "cells": [
  {
   "cell_type": "code",
   "execution_count": 1,
   "id": "c13c8746",
   "metadata": {},
   "outputs": [],
   "source": [
    "### import libraries\n",
    "from sklearn.cluster import SpectralClustering\n",
    "import numpy as np\n",
    "import networkx as nx\n",
    "import matplotlib.pyplot as plt\n",
    "import pandas as pd\n",
    "from matplotlib.pyplot import figure\n",
    "from adjustText import adjust_text\n",
    "from node2vec import Node2Vec\n",
    "from gensim import models\n",
    "from sklearn.metrics.pairwise import cosine_similarity\n",
    "from sklearn.manifold import TSNE\n",
    "from sklearn.cluster import KMeans\n"
   ]
  },
  {
   "cell_type": "code",
   "execution_count": 2,
   "id": "d086a3a9",
   "metadata": {},
   "outputs": [],
   "source": [
    "raw_data = pd.read_csv('./Data/associations.csv', squeeze=True, sep=\"\\a\")\n",
    "df = raw_data.str.split(\",\", n=-1, expand=True)\n",
    "df.columns = ['from', 'to', 'weight', 'weight1']\n",
    "df = df.drop('weight1', axis=1)"
   ]
  },
  {
   "cell_type": "code",
   "execution_count": null,
   "id": "50bc7da4",
   "metadata": {},
   "outputs": [],
   "source": [
    "'''Graph creation and initialization'''\n",
    "# default edge weight=1\n",
    "G=nx.from_pandas_edgelist(df, 'from', 'to', ['weight'])\n",
    "\n",
    "'''Matrix creation'''\n",
    "adj_matrix = nx.to_numpy_matrix(G) #Converts graph to an adj matrix with adj_matrix[i][j] represents weight between node i,j.\n",
    "nodes_list = list(G.nodes()) #returns a list of nodes with index mapping with the a \n",
    "number_of_nodes = len(nodes_list)\n",
    "nodes_list_index = list(range(number_of_nodes))\n",
    "n_clusters = int(np.ceil(np.log2(number_of_nodes)))"
   ]
  }
 ],
 "metadata": {
  "kernelspec": {
   "display_name": "Python 3",
   "language": "python",
   "name": "python3"
  },
  "language_info": {
   "codemirror_mode": {
    "name": "ipython",
    "version": 3
   },
   "file_extension": ".py",
   "mimetype": "text/x-python",
   "name": "python",
   "nbconvert_exporter": "python",
   "pygments_lexer": "ipython3",
   "version": "3.8.10"
  }
 },
 "nbformat": 4,
 "nbformat_minor": 5
}
