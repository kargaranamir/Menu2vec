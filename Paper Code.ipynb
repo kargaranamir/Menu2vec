{
 "cells": [
  {
   "cell_type": "code",
   "execution_count": 20,
   "id": "dd13cad0",
   "metadata": {},
   "outputs": [],
   "source": [
    "### import libraries\n",
    "from sklearn.cluster import SpectralClustering\n",
    "import numpy as np\n",
    "import networkx as nx\n",
    "import matplotlib.pyplot as plt\n",
    "import pandas as pd\n",
    "from matplotlib.pyplot import figure\n",
    "from adjustText import adjust_text\n",
    "from node2vec import Node2Vec\n",
    "from gensim import models\n",
    "from sklearn.metrics.pairwise import cosine_similarity\n",
    "from sklearn.manifold import TSNE\n",
    "from sklearn.cluster import KMeans"
   ]
  },
  {
   "cell_type": "code",
   "execution_count": 32,
   "id": "473cc70f",
   "metadata": {},
   "outputs": [],
   "source": [
    "# read data\n",
    "raw_data = pd.read_csv('./Data/associations.csv', squeeze=True, sep=\"\\a\")\n",
    "df = raw_data.str.split(\",\", n=-1, expand=True)\n",
    "df.columns = ['from', 'to', 'weight', 'weight1']\n",
    "df = df.drop('weight1', axis=1)\n",
    "\n",
    "## delete numbers\n",
    "df[['from', 'to']] = df[['from', 'to']].replace('\\d+', '', regex=True)\n",
    "df = df[df['from'].astype(bool)]                                                                                                                  \n",
    "df = df[df['to'].astype(bool)]   \n",
    "\n",
    "\n",
    "#specify types\n",
    "df = df.astype(str)\n",
    "df['weight'] = pd.to_numeric(df['weight'])"
   ]
  },
  {
   "cell_type": "code",
   "execution_count": 34,
   "id": "780eb4ac",
   "metadata": {},
   "outputs": [
    {
     "name": "stdout",
     "output_type": "stream",
     "text": [
      "<class 'pandas.core.frame.DataFrame'>\n",
      "Int64Index: 109676 entries, 0 to 111827\n",
      "Data columns (total 3 columns):\n",
      " #   Column  Non-Null Count   Dtype  \n",
      "---  ------  --------------   -----  \n",
      " 0   from    109676 non-null  object \n",
      " 1   to      109676 non-null  object \n",
      " 2   weight  109676 non-null  float64\n",
      "dtypes: float64(1), object(2)\n",
      "memory usage: 3.3+ MB\n"
     ]
    }
   ],
   "source": [
    "df.info()"
   ]
  },
  {
   "cell_type": "code",
   "execution_count": 35,
   "id": "d2093b6f",
   "metadata": {},
   "outputs": [],
   "source": [
    "'''Graph creation and initialization'''\n",
    "# default edge weight=1\n",
    "G=nx.from_pandas_edgelist(df, 'from', 'to', ['weight'])\n",
    "\n",
    "'''Matrix creation'''\n",
    "adj_matrix = nx.to_numpy_matrix(G) #Converts graph to an adj matrix with adj_matrix[i][j] represents weight between node i,j.\n",
    "nodes_list = list(G.nodes()) #returns a list of nodes with index mapping with the a \n",
    "number_of_nodes = len(nodes_list)\n",
    "nodes_list_index = list(range(number_of_nodes))\n",
    "n_clusters = int(np.ceil(np.log2(number_of_nodes)))"
   ]
  },
  {
   "cell_type": "code",
   "execution_count": 37,
   "id": "358d7153",
   "metadata": {},
   "outputs": [
    {
     "data": {
      "application/vnd.jupyter.widget-view+json": {
       "model_id": "e54d4bb223f14fd4ad68d528ec3836f0",
       "version_major": 2,
       "version_minor": 0
      },
      "text/plain": [
       "Computing transition probabilities:   0%|          | 0/3120 [00:00<?, ?it/s]"
      ]
     },
     "metadata": {},
     "output_type": "display_data"
    }
   ],
   "source": [
    "# Generate walks\n",
    "node2vec = Node2Vec(G, dimensions=300, walk_length=8, num_walks=100, workers= 6)\n",
    "\n",
    "# Learn embeddings \n",
    "model = node2vec.fit(window=5, min_count=1)"
   ]
  },
  {
   "cell_type": "code",
   "execution_count": 82,
   "id": "38ceeb56",
   "metadata": {},
   "outputs": [],
   "source": [
    "model.save('./d300-walk8-numwalk100-window5-mincount1.model')"
   ]
  },
  {
   "cell_type": "code",
   "execution_count": 43,
   "id": "75b21c38",
   "metadata": {},
   "outputs": [],
   "source": [
    "# word similarity function \n",
    "def wordsim(word1,word2):\n",
    "    word1 = model.wv.get_vector(word1).reshape(1,-1)\n",
    "    word2 = model.wv.get_vector(word2).reshape(1,-1)\n",
    "    return cosine_similarity(word1,word2)"
   ]
  },
  {
   "cell_type": "code",
   "execution_count": 81,
   "id": "320eb1d1",
   "metadata": {},
   "outputs": [
    {
     "data": {
      "text/plain": [
       "array([[0.9926146]], dtype=float32)"
      ]
     },
     "execution_count": 81,
     "metadata": {},
     "output_type": "execute_result"
    }
   ],
   "source": [
    "wordsim('Trace Dependents', 'Trace Error')"
   ]
  },
  {
   "cell_type": "code",
   "execution_count": 50,
   "id": "2447cda6",
   "metadata": {},
   "outputs": [
    {
     "data": {
      "text/plain": [
       "[('Export Bookmarks', 0.9525933861732483),\n",
       " ('Open in Dashboard', 0.9520044326782227),\n",
       " ('Mail Link to This Page', 0.9473936557769775),\n",
       " ('Mail Contents of This Page', 0.9416106939315796),\n",
       " ('Import Bookmarks', 0.9388823509216309),\n",
       " ('Open File', 0.8905087113380432),\n",
       " ('Open Location', 0.857744038105011),\n",
       " ('Close Other Tabs', 0.8564198017120361),\n",
       " ('Close All Windows', 0.855567991733551),\n",
       " ('Close Tab', 0.8470062017440796),\n",
       " ('Advanced Open File', 0.8184773921966553),\n",
       " ('Open Capture Device', 0.8011445999145508),\n",
       " ('Open Disc', 0.7950068712234497),\n",
       " ('Streaming/Exporting Wizard', 0.782598614692688),\n",
       " ('New Window', 0.7793950438499451),\n",
       " ('Open Network', 0.7786928415298462),\n",
       " ('Open VIDEO_TS', 0.7667489051818848),\n",
       " ('Save Playlist', 0.7663076519966125),\n",
       " ('Open Subtitle', 0.7658212184906006),\n",
       " ('Open Dictionaries Folder', 0.7608514428138733)]"
      ]
     },
     "execution_count": 50,
     "metadata": {},
     "output_type": "execute_result"
    }
   ],
   "source": [
    "model.wv.most_similar('New Tab', topn=20)  # <=== note the .wv"
   ]
  },
  {
   "cell_type": "code",
   "execution_count": 80,
   "id": "5728fd39",
   "metadata": {},
   "outputs": [],
   "source": [
    "# Case Study: Notepad"
   ]
  },
  {
   "cell_type": "code",
   "execution_count": 74,
   "id": "5a0351df",
   "metadata": {},
   "outputs": [
    {
     "data": {
      "text/plain": [
       "6"
      ]
     },
     "execution_count": 74,
     "metadata": {},
     "output_type": "execute_result"
    },
    {
     "data": {
      "image/png": "[encoded data removed]",
      "text/plain": [
       "<Figure size 1440x720 with 1 Axes>"
      ]
     },
     "metadata": {
      "needs_background": "light"
     },
     "output_type": "display_data"
    }
   ],
   "source": [
    "command_list = ['New', 'Open', 'Save', 'Save As', 'Print','Undo', 'Redo', 'Copy', 'Cut', 'Paste', 'Delete', 'Select All', 'Zoom In', 'Zoom Out', 'Help', 'Send Feedback']\n",
    "\n",
    "number_of_nodes = len(command_list)\n",
    "nodes_list_index = list(range(number_of_nodes))\n",
    "n_clusters = int(np.ceil(np.log2(number_of_nodes)))\n",
    "\n",
    "node_embeddings = np.array([model.wv.get_vector(i) for i in command_list])\n",
    "\n",
    "kmeans = KMeans(n_clusters=n_clusters, random_state=0).fit(node_embeddings) #kmeans\n",
    "node_colors = kmeans.labels_\n",
    "\n",
    "\n",
    "figure = plt.gcf() # get current figure\n",
    "figure.set_size_inches(20, 10)\n",
    "plt.scatter(nodes_list_index,node_colors,c=node_colors, s=50, cmap='viridis')\n",
    "texts = [plt.text(nodes_list_index[i], node_colors[i], txt , ha='center', va='center') for i, txt in enumerate(command_list)]\n",
    "adjust_text(texts) #adjusting annotations"
   ]
  },
  {
   "cell_type": "code",
   "execution_count": 75,
   "id": "c1ad0b71",
   "metadata": {},
   "outputs": [
    {
     "data": {
      "text/plain": [
       "array([[0.36233255]], dtype=float32)"
      ]
     },
     "execution_count": 75,
     "metadata": {},
     "output_type": "execute_result"
    }
   ],
   "source": [
    "wordsim('Help', 'Send Feedback')"
   ]
  },
  {
   "cell_type": "code",
   "execution_count": 77,
   "id": "349f291f",
   "metadata": {},
   "outputs": [
    {
     "data": {
      "text/plain": [
       "array([[0.38091004]], dtype=float32)"
      ]
     },
     "execution_count": 77,
     "metadata": {},
     "output_type": "execute_result"
    }
   ],
   "source": [
    "wordsim('Excel Help', 'Send Feedback')"
   ]
  },
  {
   "cell_type": "code",
   "execution_count": 79,
   "id": "fe91f405",
   "metadata": {},
   "outputs": [
    {
     "data": {
      "text/plain": [
       "array([[0.99977964]], dtype=float32)"
      ]
     },
     "execution_count": 79,
     "metadata": {},
     "output_type": "execute_result"
    }
   ],
   "source": [
    "wordsim('Versions Help', 'Send Feedback')"
   ]
  },
  {
   "cell_type": "code",
   "execution_count": null,
   "id": "4b2f97d1",
   "metadata": {},
   "outputs": [],
   "source": [
    "#TODO: Add NLP in some stages!"
   ]
  }
 ],
 "metadata": {
  "kernelspec": {
   "display_name": "Python 3",
   "language": "python",
   "name": "python3"
  },
  "language_info": {
   "codemirror_mode": {
    "name": "ipython",
    "version": 3
   },
   "file_extension": ".py",
   "mimetype": "text/x-python",
   "name": "python",
   "nbconvert_exporter": "python",
   "pygments_lexer": "ipython3",
   "version": "3.8.10"
  }
 },
 "nbformat": 4,
 "nbformat_minor": 5
}
